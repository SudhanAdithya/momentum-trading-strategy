{
 "cells": [
  {
   "cell_type": "code",
   "execution_count": null,
   "id": "503f05d5",
   "metadata": {},
   "outputs": [
    {
     "name": "stdout",
     "output_type": "stream",
     "text": [
      "Sample dataset created and saved to ../data/raw/sample_data.csv\n"
     ]
    }
   ],
   "source": [
    "import os\n",
    "import pandas as pd\n",
    "import numpy as np\n",
    "\n",
    "\n",
    "# Define folder paths relative to this notebook\n",
    "raw_dir = '../data/raw'\n",
    "processed_dir = '../data/processed'\n",
    "\n",
    "# Create folders if they don't exist\n",
    "os.makedirs(raw_dir, exist_ok=True)\n",
    "os.makedirs(processed_dir, exist_ok=True)\n",
    "\n",
    "# Define the sample data\n",
    "data = {\n",
    "    'age': [34, 45, 29, 50, 38, np.nan, 41],\n",
    "    'income': [55000, np.nan, 42000, 58000, np.nan, np.nan, 49000],\n",
    "    'score': [0.82, 0.91, np.nan, 0.76, 0.88, 0.65, 0.79],\n",
    "    'zipcode': ['90210', '10001', '60614', '94103', '73301', '12345', '94105'],\n",
    "    'city': ['Beverly', 'New York', 'Chicago', 'SF', 'Austin', 'Unknown', 'San Francisco'],\n",
    "    'extra_data': [np.nan, 42, np.nan, np.nan, np.nan, 5, np.nan]\n",
    "}\n",
    "\n",
    "# Create DataFrame\n",
    "df = pd.DataFrame(data)\n",
    "\n",
    "# Save to CSV in raw data folder\n",
    "csv_path = os.path.join(raw_dir, 'sample_data.csv')\n",
    "if not os.path.exists(csv_path):\n",
    "    df.to_csv(csv_path, index=False)\n",
    "    print(f'Sample dataset created and saved to {csv_path}')\n",
    "else:\n",
    "    print(f'File already exists at {csv_path}. Skipping CSV creation to avoid overwrite.')\n"
   ]
  },
  {
   "cell_type": "code",
   "execution_count": 7,
   "id": "059fce42",
   "metadata": {},
   "outputs": [
    {
     "name": "stdout",
     "output_type": "stream",
     "text": [
      "    age   income  score  zipcode      city  extra_data\n",
      "0  34.0  55000.0   0.82    90210   Beverly         NaN\n",
      "1  45.0      NaN   0.91    10001  New York        42.0\n",
      "2  29.0  42000.0    NaN    60614   Chicago         NaN\n",
      "3  50.0  58000.0   0.76    94103        SF         NaN\n",
      "4  38.0      NaN   0.88    73301    Austin         NaN\n"
     ]
    }
   ],
   "source": [
    "import os\n",
    "import pandas as pd\n",
    "import numpy as np\n",
    "\n",
    "df = pd.read_csv(\"../data/raw/sample_data.csv\")\n",
    "print(df.head())\n"
   ]
  },
  {
   "cell_type": "code",
   "execution_count": null,
   "id": "b5a0eb17",
   "metadata": {},
   "outputs": [
    {
     "name": "stdout",
     "output_type": "stream",
     "text": [
      "Missing numerical values filled with median.\n",
      "    age   income  score  zipcode      city  extra_data\n",
      "0  34.0  55000.0  0.820    90210   Beverly        23.5\n",
      "1  45.0  52000.0  0.910    10001  New York        42.0\n",
      "2  29.0  42000.0  0.805    60614   Chicago        23.5\n",
      "3  50.0  58000.0  0.760    94103        SF        23.5\n",
      "4  38.0  52000.0  0.880    73301    Austin        23.5\n",
      "Rows with missing values dropped.\n",
      "    age   income  score  zipcode      city  extra_data\n",
      "0  34.0  55000.0  0.820    90210   Beverly        23.5\n",
      "1  45.0  52000.0  0.910    10001  New York        42.0\n",
      "2  29.0  42000.0  0.805    60614   Chicago        23.5\n",
      "3  50.0  58000.0  0.760    94103        SF        23.5\n",
      "4  38.0  52000.0  0.880    73301    Austin        23.5\n"
     ]
    },
    {
     "name": "stderr",
     "output_type": "stream",
     "text": [
      "/var/folders/4_/jnq8qqtd1g9_ryvlkj4r7jxh0000gp/T/ipykernel_35933/3869334096.py:6: FutureWarning: A value is trying to be set on a copy of a DataFrame or Series through chained assignment using an inplace method.\n",
      "The behavior will change in pandas 3.0. This inplace method will never work because the intermediate object on which we are setting values always behaves as a copy.\n",
      "\n",
      "For example, when doing 'df[col].method(value, inplace=True)', try using 'df.method({col: value}, inplace=True)' or df[col] = df[col].method(value) instead, to perform the operation inplace on the original object.\n",
      "\n",
      "\n",
      "  df[col].fillna(median, inplace=True)\n",
      "/var/folders/4_/jnq8qqtd1g9_ryvlkj4r7jxh0000gp/T/ipykernel_35933/3869334096.py:6: FutureWarning: A value is trying to be set on a copy of a DataFrame or Series through chained assignment using an inplace method.\n",
      "The behavior will change in pandas 3.0. This inplace method will never work because the intermediate object on which we are setting values always behaves as a copy.\n",
      "\n",
      "For example, when doing 'df[col].method(value, inplace=True)', try using 'df.method({col: value}, inplace=True)' or df[col] = df[col].method(value) instead, to perform the operation inplace on the original object.\n",
      "\n",
      "\n",
      "  df[col].fillna(median, inplace=True)\n",
      "/var/folders/4_/jnq8qqtd1g9_ryvlkj4r7jxh0000gp/T/ipykernel_35933/3869334096.py:6: FutureWarning: A value is trying to be set on a copy of a DataFrame or Series through chained assignment using an inplace method.\n",
      "The behavior will change in pandas 3.0. This inplace method will never work because the intermediate object on which we are setting values always behaves as a copy.\n",
      "\n",
      "For example, when doing 'df[col].method(value, inplace=True)', try using 'df.method({col: value}, inplace=True)' or df[col] = df[col].method(value) instead, to perform the operation inplace on the original object.\n",
      "\n",
      "\n",
      "  df[col].fillna(median, inplace=True)\n",
      "/var/folders/4_/jnq8qqtd1g9_ryvlkj4r7jxh0000gp/T/ipykernel_35933/3869334096.py:6: FutureWarning: A value is trying to be set on a copy of a DataFrame or Series through chained assignment using an inplace method.\n",
      "The behavior will change in pandas 3.0. This inplace method will never work because the intermediate object on which we are setting values always behaves as a copy.\n",
      "\n",
      "For example, when doing 'df[col].method(value, inplace=True)', try using 'df.method({col: value}, inplace=True)' or df[col] = df[col].method(value) instead, to perform the operation inplace on the original object.\n",
      "\n",
      "\n",
      "  df[col].fillna(median, inplace=True)\n",
      "/var/folders/4_/jnq8qqtd1g9_ryvlkj4r7jxh0000gp/T/ipykernel_35933/3869334096.py:6: FutureWarning: A value is trying to be set on a copy of a DataFrame or Series through chained assignment using an inplace method.\n",
      "The behavior will change in pandas 3.0. This inplace method will never work because the intermediate object on which we are setting values always behaves as a copy.\n",
      "\n",
      "For example, when doing 'df[col].method(value, inplace=True)', try using 'df.method({col: value}, inplace=True)' or df[col] = df[col].method(value) instead, to perform the operation inplace on the original object.\n",
      "\n",
      "\n",
      "  df[col].fillna(median, inplace=True)\n"
     ]
    },
    {
     "ename": "NameError",
     "evalue": "name 'StandardScaler' is not defined",
     "output_type": "error",
     "traceback": [
      "\u001b[31m---------------------------------------------------------------------------\u001b[39m",
      "\u001b[31mNameError\u001b[39m                                 Traceback (most recent call last)",
      "\u001b[36mCell\u001b[39m\u001b[36m \u001b[39m\u001b[32mIn[18]\u001b[39m\u001b[32m, line 25\u001b[39m\n\u001b[32m     23\u001b[39m fill_missing_median()\n\u001b[32m     24\u001b[39m drop_missing()\n\u001b[32m---> \u001b[39m\u001b[32m25\u001b[39m \u001b[43mnormalize_data\u001b[49m\u001b[43m(\u001b[49m\u001b[43m)\u001b[49m\n",
      "\u001b[36mCell\u001b[39m\u001b[36m \u001b[39m\u001b[32mIn[18]\u001b[39m\u001b[32m, line 18\u001b[39m, in \u001b[36mnormalize_data\u001b[39m\u001b[34m()\u001b[39m\n\u001b[32m     15\u001b[39m \u001b[38;5;28;01mdef\u001b[39;00m\u001b[38;5;250m \u001b[39m\u001b[34mnormalize_data\u001b[39m():\n\u001b[32m     16\u001b[39m     \u001b[38;5;66;03m# Normalize numerical columns using standardized scaler and min-max scaler\u001b[39;00m\n\u001b[32m     17\u001b[39m     num_cols = df.select_dtypes(include=[np.number]).columns\n\u001b[32m---> \u001b[39m\u001b[32m18\u001b[39m     scaler = \u001b[43mStandardScaler\u001b[49m()\n\u001b[32m     19\u001b[39m     df[num_cols] = scaler.fit_transform(df[num_cols])\n\u001b[32m     20\u001b[39m     \u001b[38;5;28mprint\u001b[39m(\u001b[33m\"\u001b[39m\u001b[33mNumerical columns standardized.\u001b[39m\u001b[33m\"\u001b[39m)    \n",
      "\u001b[31mNameError\u001b[39m: name 'StandardScaler' is not defined"
     ]
    }
   ],
   "source": [
    "\n",
    "def fill_missing_median():\n",
    "    # Fill missing numerical values with median\n",
    "    num_cols = df.select_dtypes(include=[np.number]).columns\n",
    "    for col in num_cols:\n",
    "        median = df[col].median()\n",
    "        df[col].fillna(median, inplace=True)\n",
    "    print(\"Missing numerical values filled with median.\")\n",
    "    print(df.head())\n",
    "    \n",
    "def drop_missing():\n",
    "    df.dropna(inplace=True)\n",
    "    print(\"Rows with missing values dropped.\")\n",
    "    print(df.head())\n",
    "\n",
    "def normalize_data():\n",
    "    # Normalize numerical columns using standardized scaler and min-max scaler\n",
    "    num_cols = df.select_dtypes(include=[np.number]).columns\n",
    "    scaler = StandardScaler()\n",
    "    df[num_cols] = scaler.fit_transform(df[num_cols])\n",
    "    print(\"Numerical columns standardized.\")    \n",
    "    print(df.head())\n",
    "\n",
    "fill_missing_median()\n",
    "drop_missing()\n",
    "normalize_data()\n"
   ]
  },
  {
   "cell_type": "code",
   "execution_count": 22,
   "id": "1bf12156",
   "metadata": {},
   "outputs": [
    {
     "name": "stdout",
     "output_type": "stream",
     "text": [
      "Requirement already satisfied: scikit-learn in /opt/miniconda3/lib/python3.13/site-packages (1.7.1)\n",
      "Requirement already satisfied: numpy>=1.22.0 in /opt/miniconda3/lib/python3.13/site-packages (from scikit-learn) (2.3.2)\n",
      "Requirement already satisfied: scipy>=1.8.0 in /opt/miniconda3/lib/python3.13/site-packages (from scikit-learn) (1.16.1)\n",
      "Requirement already satisfied: joblib>=1.2.0 in /opt/miniconda3/lib/python3.13/site-packages (from scikit-learn) (1.5.1)\n",
      "Requirement already satisfied: threadpoolctl>=3.1.0 in /opt/miniconda3/lib/python3.13/site-packages (from scikit-learn) (3.6.0)\n",
      "Note: you may need to restart the kernel to use updated packages.\n",
      "Note: you may need to restart the kernel to use updated packages.\n"
     ]
    }
   ],
   "source": [
    "pip install scikit-learn"
   ]
  },
  {
   "cell_type": "code",
   "execution_count": null,
   "id": "e08247e1",
   "metadata": {},
   "outputs": [],
   "source": []
  }
 ],
 "metadata": {
  "kernelspec": {
   "display_name": "base",
   "language": "python",
   "name": "python3"
  },
  "language_info": {
   "codemirror_mode": {
    "name": "ipython",
    "version": 3
   },
   "file_extension": ".py",
   "mimetype": "text/x-python",
   "name": "python",
   "nbconvert_exporter": "python",
   "pygments_lexer": "ipython3",
   "version": "3.13.5"
  }
 },
 "nbformat": 4,
 "nbformat_minor": 5
}
